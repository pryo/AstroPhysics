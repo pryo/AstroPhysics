{
 "cells": [
  {
   "cell_type": "code",
   "execution_count": 3,
   "metadata": {
    "collapsed": true
   },
   "outputs": [],
   "source": [
    "from astropy.io import fits\n",
    "hdulist = fits.open('example.fits')"
   ]
  },
  {
   "cell_type": "code",
   "execution_count": 4,
   "metadata": {},
   "outputs": [
    {
     "name": "stdout",
     "output_type": "stream",
     "text": [
      "Filename: example.fits\n",
      "No.    Name         Type      Cards   Dimensions   Format\n",
      "  0  PRIMARY     PrimaryHDU     142   ()      \n",
      "  1  COADD       BinTableHDU     26   3839R x 8C   [E, E, E, J, J, E, E, E]   \n",
      "  2  SPECOBJ     BinTableHDU    262   1R x 126C   [6A, 4A, 16A, 23A, 16A, 8A, E, E, E, J, E, E, J, B, B, B, B, B, B, J, 22A, 19A, 19A, 22A, 19A, I, 3A, 3A, 1A, J, D, D, D, E, E, 19A, 8A, J, J, J, J, K, K, J, J, J, J, J, J, K, K, K, K, I, J, J, J, J, 5J, D, D, 6A, 21A, E, E, E, J, E, 24A, 10J, J, 10E, E, E, E, E, E, E, J, E, E, E, J, E, 5E, E, 10E, 10E, 10E, 5E, 5E, 5E, 5E, 5E, J, J, E, E, E, E, E, E, 25A, 21A, 10A, E, E, E, E, E, E, E, E, J, E, E, J, 1A, 1A, E, E, J, J, 1A, 5E, 5E]   \n",
      "  3  SPZLINE     BinTableHDU     48   29R x 19C   [J, J, J, 13A, D, E, E, E, E, E, E, E, E, E, E, J, J, E, E]   \n"
     ]
    }
   ],
   "source": [
    "hdulist.info()"
   ]
  },
  {
   "cell_type": "code",
   "execution_count": 5,
   "metadata": {},
   "outputs": [
    {
     "data": {
      "text/plain": [
       "astropy.io.fits.hdu.hdulist.HDUList"
      ]
     },
     "execution_count": 5,
     "metadata": {},
     "output_type": "execute_result"
    }
   ],
   "source": [
    "type(hdulist)"
   ]
  },
  {
   "cell_type": "code",
   "execution_count": 8,
   "metadata": {},
   "outputs": [
    {
     "data": {
      "text/plain": [
       "astropy.io.fits.hdu.image.PrimaryHDU"
      ]
     },
     "execution_count": 8,
     "metadata": {},
     "output_type": "execute_result"
    }
   ],
   "source": [
    "type(hdulist[0])"
   ]
  },
  {
   "cell_type": "code",
   "execution_count": 9,
   "metadata": {},
   "outputs": [
    {
     "data": {
      "text/plain": [
       "astropy.io.fits.hdu.table.BinTableHDU"
      ]
     },
     "execution_count": 9,
     "metadata": {},
     "output_type": "execute_result"
    }
   ],
   "source": [
    "type(hdulist[1])"
   ]
  },
  {
   "cell_type": "code",
   "execution_count": 10,
   "metadata": {},
   "outputs": [
    {
     "data": {
      "text/plain": [
       "SIMPLE  =                    T / conforms to FITS standard                      \n",
       "BITPIX  =                    8 / array data type                                \n",
       "NAXIS   =                    0 / number of array dimensions                     \n",
       "EXTEND  =                    T                                                  \n",
       "TAI     =        4486795138.24 / 1st row - Number of seconds since Nov 17 1858  \n",
       "RA      =            179.56042 / 1st row - Right ascension of telescope boresigh\n",
       "DEC     =           -0.015428  / 1st row - Declination of telescope boresight (d\n",
       "EQUINOX =              2000.00 /                                                \n",
       "RADECSYS= 'FK5     '           /                                                \n",
       "TAIHMS  = '11:23:50.03'        / 1st row - TAI time (HH:MM:SS.SS) (TAI-UT = appr\n",
       "TIMESYS = 'tai     '           / TAI, not UTC                                   \n",
       "MJD     =                51930 / MJD of observation                             \n",
       "MJDLIST = '51930   '           /                                                \n",
       "VERSION = 'v3_25_4 '           / version of IOP                                 \n",
       "CAMVER  = 'SPEC2 v4_5'         / Camera code version                            \n",
       "OBSERVER= 'harvanek'                                                            \n",
       "OBSCOMM = 'science '                                                            \n",
       "TELESCOP= 'SDSS 2.5-M'         / Sloan Digital Sky Survey                       \n",
       "BESTEXP =                 8373 /                                                \n",
       "NEXP_B1 =                    5 / b1 camera number of exposures                  \n",
       "NEXP_R1 =                    5 / r1 camera number of exposures                  \n",
       "EXPT_B1 =              4500.00 / b1 camera exposure time (seconds)              \n",
       "EXPT_R1 =              4500.00 / r1 camera exposure time (seconds)              \n",
       "EXPTIME =              4500.00 / Minimum of exposure times for all cameras      \n",
       "SPCOADD = 'Thu Feb 28 11:49:48 2008' / SPCOADD finished                         \n",
       "FLAVOR  = 'science '           / Flavor of this sequence (e.g., dome flat, etc.)\n",
       "QUALITY = 'excellent'          / night/image quality                            \n",
       "RADEG   = 1.79560755000000E+02 / Right Ascension. (degrees)                     \n",
       "DECDEG  = -1.5336000000000E-02 / Declination. (degrees)                         \n",
       "PLATEID =                  285 / Plate Id                                       \n",
       "TILEID  =                  103 / Tile Id                                        \n",
       "CARTID  =                    4 /Cartridge used in this plugging                 \n",
       "MAPID   =              5192201 / Map Id                                         \n",
       "NAME    = '0285-51922-01'      / Name of target; PlateId-MJD-Mapper ReRun       \n",
       "COLBIN  =                    1 / Binning factor perpendicular to the columns    \n",
       "ROWBIN  =                    1 / Binning factor perpendicular to the rows       \n",
       "PROGRAM = 'binning 1   1 '     / Identifying name for CCD program               \n",
       "SECFOCUS= 0.00000000000000E+00 / Secondary Mirror Position as reported by TCC   \n",
       "GUIDEIMG= '/data/spectro/guider/gimg0212.fits' / Last archived guider image     \n",
       "WTIME   =        980077604.000 / weatherData(timeStamp)                         \n",
       "AIRTEMP =       -3.54000000000 / weatherData(airtemp)                           \n",
       "DEWPOINT=       -25.0400000000 / weatherData(dewpoint)                          \n",
       "DEWDEP  =        21.5000000000 / weatherData(dewpointDep)                       \n",
       "DUSTA   =        8553.80000000 / weatherData(dusta)                             \n",
       "DUSTB   =        134.000000000 / weatherData(dustb)                             \n",
       "DUSTC   =        9865.60000000 / weatherData(dustc)                             \n",
       "DUSTD   =        86.2000000000 / weatherData(dustd)                             \n",
       "GUSTD   = 9.10000000000000E+00 / weatherData(gustd)                             \n",
       "GUSTS   =        20.0800000000 / weatherData(gusts)                             \n",
       "HUMIDITY=        17.0400000000 / weatherData(humidity)                          \n",
       "HUMIDOUT=        16.6000000000 / weatherData(humidout)                          \n",
       "PRESSURE=        21.5500000000 / weatherData(pressure)                          \n",
       "WINDD   =        82.1000000000 / weatherData(windd)                             \n",
       "WINDS   =        14.1200000000 / weatherData(winds)                             \n",
       "TEMP01  =       -94.3740000000 / CCD 01 Temperature                             \n",
       "TEMP02  =       -93.2820000000 / CCD 02 Temperature                             \n",
       "TEMP03  =       -92.4240000000 / CCD 03 Temperature                             \n",
       "TEMP04  =       -93.2820000000 / CCD 04 Temperature                             \n",
       "VERSIDL = '6.3     '           / Version of IDL                                 \n",
       "VERSUTIL= 'v5_3_0  '           / Version of idlutils                            \n",
       "VERSREAD= 'v5_3_12 '           / Version of idlspec2d for pre-processing raw dat\n",
       "VERS2D  = 'v5_3_12 '           / Version of idlspec2d for 2D reduction          \n",
       "VERSCOMB= 'v5_3_12 '           / Version of idlspec2d for combining multiple spe\n",
       "VERSLOG = 'fermi-CVS 02/28/08' / Version of SPECLOG product                     \n",
       "VERSFLAT= 'v1_7    '           / Version of SPECFLAT product                    \n",
       "OPBC    = 'opBC-51813.par'     /                                                \n",
       "OPCONFIG= 'opConfig-50000.par' /                                                \n",
       "OPECALIB= 'opECalib-51577.par' /                                                \n",
       "PLUGFILE= 'plPlugMapM-0285-51922-01.par' /                                      \n",
       "HELIO_RV=       -25.6911482633 / Heliocentric correction (added to velocities)  \n",
       "VACUUM  =                    T / Wavelengths are in vacuum                      \n",
       "SFLATTEN=                    T / Superflat has been applied                     \n",
       "PSFSKY  =                    3 / Order of PSF skysubtraction                    \n",
       "SKYCHI2 =        1.11038328164 / Mean chi^2 of sky-subtraction                  \n",
       "SCHI2MIN=        1.05554323187 /                                                \n",
       "SCHI2MAX=        1.20954145759 /                                                \n",
       "PREJECT =             0.200000 / Profile area rejection threshold               \n",
       "SPEC1_G =              24.8322 /(S/N)^2 for spec  1 at mag 20.20                \n",
       "SPEC1_R =              29.5076 /(S/N)^2 for spec  1 at mag 20.25                \n",
       "SPEC1_I =              24.3799 /(S/N)^2 for spec  1 at mag 19.90                \n",
       "SPEC2_G =              26.4141 /(S/N)^2 for spec  2 at mag 20.20                \n",
       "SPEC2_R =              35.6634 /(S/N)^2 for spec  2 at mag 20.25                \n",
       "SPEC2_I =              24.9234 /(S/N)^2 for spec  2 at mag 19.90                \n",
       "NSTD    =                   16 / Number of (good) std stars                     \n",
       "GOFFSTD =            -0.155201 / Spectrophoto offset for std stars in G-band    \n",
       "GRMSSTD =            0.0494736 / Spectrophoto RMS for std stars in G-band       \n",
       "ROFFSTD =           -0.0330648 / Spectrophoto offset for std stars in R-band    \n",
       "RRMSSTD =            0.0604634 / Spectrophoto RMS for std stars in R-band       \n",
       "IOFFSTD =           -0.0693283 / Spectrophoto offset for std stars in I-band    \n",
       "IRMSSTD =            0.0699605 / Spectrophoto RMS for std stars in I-band       \n",
       "GROFFSTD=            -0.102301 / Spectrophoto offset for std stars in (GR)      \n",
       "GRRMSSTD=            0.0679942 / Spectrophoto RMS for std stars in (GR)         \n",
       "RIOFFSTD=            0.0354290 / Spectrophoto offset for std stars in (RI)      \n",
       "RIRMSSTD=            0.0329886 / Spectrophoto RMS for std stars in (RI)         \n",
       "NGAL    =                  444 / Number of (good) main galaxies                 \n",
       "GOFFGAL =            0.0682106 / Spectrophoto offset for main galaxies in G-band\n",
       "GRMSGAL =             0.138146 / Spectrophoto RMS for main galaxies in G-band   \n",
       "ROFFGAL =            0.0289707 / Spectrophoto offset for main galaxies in R-band\n",
       "RRMSGAL =            0.0851656 / Spectrophoto RMS for main galaxies in R-band   \n",
       "IOFFGAL =            0.0300064 / Spectrophoto offset for main galaxies in I-band\n",
       "IRMSGAL =            0.0827515 / Spectrophoto RMS for main galaxies in I-band   \n",
       "GROFFGAL=            0.0332184 / Spectrophoto offset for main galaxies in (GR)  \n",
       "GRRMSGAL=            0.0748600 / Spectrophoto RMS for main galaxies in (GR)     \n",
       "RIOFFGAL=          -0.00127220 / Spectrophoto offset for main galaxies in (RI)  \n",
       "RIRMSGAL=            0.0374146 / Spectrophoto RMS for main galaxies in (RI)     \n",
       "LOWREJ  =                    5 / Extraction: low rejection                      \n",
       "HIGHREJ =                    8 / Extraction: high rejection                     \n",
       "SCATPOLY=                    0 / Extraction: Order of scattered light polynomial\n",
       "PROFTYPE=                    3 / Extraction profile: 1=Gaussian                 \n",
       "NFITPOLY=                    1 / Extraction: Number of parameters in each profil\n",
       "XCHI2   =              1.23212 / Extraction: Mean chi^2                         \n",
       "XCHI2MIN=              1.08374 /                                                \n",
       "XCHI2MAX=              1.33970 /                                                \n",
       "SHIFTGUE=   -0.000812781513105 /                                                \n",
       "SHIFT   =   -0.000812781513105 /Angstroms, at 4000AA                            \n",
       "SHIFTERR=   -0.000812781513105 /                                                \n",
       "NWORDER =                    2 / Linear-log10 coefficients                      \n",
       "WFITTYPE= 'LOG-LINEAR'         / Linear-log10 dispersion                        \n",
       "COEFF0  =        3.57990000000 / Central wavelength (log10) of first pixel      \n",
       "COEFF1  =    0.000100000000000 / Log10 dispersion per pixel                     \n",
       "FBADPIX =            0.0263891 / Fraction of bad pixels                         \n",
       "FBADPIX1=            0.0359638 / Fraction of bad pixels on spectro-1            \n",
       "FBADPIX2=            0.0167843 / Fraction of bad pixels on spectro-2            \n",
       "WAT0_001= 'system=linear'      /                                                \n",
       "WAT1_001= 'wtype=linear label=Wavelength units=Angstroms' /                     \n",
       "DC-FLAG =                    1 / Log-linear flag                                \n",
       "BUNIT   = '1E-17 erg/cm^2/s/Ang' /                                              \n",
       "PLUG_RA =            179.68928 / RA of object [deg]                             \n",
       "PLUG_DEC=          -0.45436733 / dec of object [deg]                            \n",
       "SPEC_ID = '    320932083365079040' / Unique object identifier                   \n",
       "FIBERID =                  184 / Fiber number (1-640)                           \n",
       "NEXP    =                   10 / Number of individual exposures                 \n",
       "EXPID01 = 'b1-00008372-00008378-00008379'                                       \n",
       "EXPID02 = 'b1-00008373-00008378-00008379'                                       \n",
       "EXPID03 = 'b1-00008374-00008378-00008379'                                       \n",
       "EXPID04 = 'b1-00008375-00008378-00008379'                                       \n",
       "EXPID05 = 'b1-00008376-00008378-00008379'                                       \n",
       "EXPID06 = 'r1-00008372-00008378-00008379'                                       \n",
       "EXPID07 = 'r1-00008373-00008378-00008379'                                       \n",
       "EXPID08 = 'r1-00008374-00008378-00008379'                                       \n",
       "EXPID09 = 'r1-00008375-00008378-00008379'                                       \n",
       "EXPID10 = 'r1-00008376-00008378-00008379'                                       "
      ]
     },
     "execution_count": 10,
     "metadata": {},
     "output_type": "execute_result"
    }
   ],
   "source": [
    "hdulist[0].header"
   ]
  },
  {
   "cell_type": "code",
   "execution_count": 11,
   "metadata": {},
   "outputs": [
    {
     "data": {
      "text/plain": [
       "XTENSION= 'BINTABLE'           / binary table extension                         \n",
       "BITPIX  =                    8 / array data type                                \n",
       "NAXIS   =                    2 / number of array dimensions                     \n",
       "NAXIS1  =                 1068 / length of dimension 1                          \n",
       "NAXIS2  =                    1 / length of dimension 2                          \n",
       "PCOUNT  =                    0 / number of group parameters                     \n",
       "GCOUNT  =                    1 / number of groups                               \n",
       "TFIELDS =                  126 / number of table fields                         \n",
       "TTYPE1  = 'SURVEY  '                                                            \n",
       "TFORM1  = '6A      '                                                            \n",
       "TTYPE2  = 'INSTRUMENT'                                                          \n",
       "TFORM2  = '4A      '                                                            \n",
       "TTYPE3  = 'CHUNK   '                                                            \n",
       "TFORM3  = '16A     '                                                            \n",
       "TTYPE4  = 'PROGRAMNAME'                                                         \n",
       "TFORM4  = '23A     '                                                            \n",
       "TTYPE5  = 'PLATERUN'                                                            \n",
       "TFORM5  = '16A     '                                                            \n",
       "TTYPE6  = 'PLATEQUALITY'                                                        \n",
       "TFORM6  = '8A      '                                                            \n",
       "TTYPE7  = 'PLATESN2'                                                            \n",
       "TFORM7  = 'E       '                                                            \n",
       "TTYPE8  = 'DEREDSN2'                                                            \n",
       "TFORM8  = 'E       '                                                            \n",
       "TTYPE9  = 'LAMBDA_EFF'                                                          \n",
       "TFORM9  = 'E       '                                                            \n",
       "TTYPE10 = 'BLUEFIBER'                                                           \n",
       "TFORM10 = 'J       '                                                            \n",
       "TTYPE11 = 'ZOFFSET '                                                            \n",
       "TFORM11 = 'E       '                                                            \n",
       "TTYPE12 = 'SNTURNOFF'                                                           \n",
       "TFORM12 = 'E       '                                                            \n",
       "TTYPE13 = 'NTURNOFF'                                                            \n",
       "TFORM13 = 'J       '                                                            \n",
       "TTYPE14 = 'SPECPRIMARY'                                                         \n",
       "TFORM14 = 'B       '                                                            \n",
       "TTYPE15 = 'SPECLEGACY'                                                          \n",
       "TFORM15 = 'B       '                                                            \n",
       "TTYPE16 = 'SPECSEGUE'                                                           \n",
       "TFORM16 = 'B       '                                                            \n",
       "TTYPE17 = 'SPECSEGUE1'                                                          \n",
       "TFORM17 = 'B       '                                                            \n",
       "TTYPE18 = 'SPECSEGUE2'                                                          \n",
       "TFORM18 = 'B       '                                                            \n",
       "TTYPE19 = 'SPECBOSS'                                                            \n",
       "TFORM19 = 'B       '                                                            \n",
       "TTYPE20 = 'BOSS_SPECOBJ_ID'                                                     \n",
       "TFORM20 = 'J       '                                                            \n",
       "TTYPE21 = 'SPECOBJID'                                                           \n",
       "TFORM21 = '22A     '                                                            \n",
       "TTYPE22 = 'FLUXOBJID'                                                           \n",
       "TFORM22 = '19A     '                                                            \n",
       "TTYPE23 = 'BESTOBJID'                                                           \n",
       "TFORM23 = '19A     '                                                            \n",
       "TTYPE24 = 'TARGETOBJID'                                                         \n",
       "TFORM24 = '22A     '                                                            \n",
       "TTYPE25 = 'PLATEID '                                                            \n",
       "TFORM25 = '19A     '                                                            \n",
       "TTYPE26 = 'NSPECOBS'                                                            \n",
       "TFORM26 = 'I       '                                                            \n",
       "TTYPE27 = 'FIRSTRELEASE'                                                        \n",
       "TFORM27 = '3A      '                                                            \n",
       "TTYPE28 = 'RUN2D   '                                                            \n",
       "TFORM28 = '3A      '                                                            \n",
       "TTYPE29 = 'RUN1D   '                                                            \n",
       "TFORM29 = '1A      '                                                            \n",
       "TTYPE30 = 'DESIGNID'                                                            \n",
       "TFORM30 = 'J       '                                                            \n",
       "TTYPE31 = 'CX      '                                                            \n",
       "TFORM31 = 'D       '                                                            \n",
       "TTYPE32 = 'CY      '                                                            \n",
       "TFORM32 = 'D       '                                                            \n",
       "TTYPE33 = 'CZ      '                                                            \n",
       "TFORM33 = 'D       '                                                            \n",
       "TTYPE34 = 'XFOCAL  '                                                            \n",
       "TFORM34 = 'E       '                                                            \n",
       "TTYPE35 = 'YFOCAL  '                                                            \n",
       "TFORM35 = 'E       '                                                            \n",
       "TTYPE36 = 'SOURCETYPE'                                                          \n",
       "TFORM36 = '19A     '                                                            \n",
       "TTYPE37 = 'TARGETTYPE'                                                          \n",
       "TFORM37 = '8A      '                                                            \n",
       "TTYPE38 = 'PRIMTARGET'                                                          \n",
       "TFORM38 = 'J       '                                                            \n",
       "TTYPE39 = 'SECTARGET'                                                           \n",
       "TFORM39 = 'J       '                                                            \n",
       "TTYPE40 = 'LEGACY_TARGET1'                                                      \n",
       "TFORM40 = 'J       '                                                            \n",
       "TTYPE41 = 'LEGACY_TARGET2'                                                      \n",
       "TFORM41 = 'J       '                                                            \n",
       "TTYPE42 = 'SPECIAL_TARGET1'                                                     \n",
       "TFORM42 = 'K       '                                                            \n",
       "TTYPE43 = 'SPECIAL_TARGET2'                                                     \n",
       "TFORM43 = 'K       '                                                            \n",
       "TTYPE44 = 'SEGUE1_TARGET1'                                                      \n",
       "TFORM44 = 'J       '                                                            \n",
       "TTYPE45 = 'SEGUE1_TARGET2'                                                      \n",
       "TFORM45 = 'J       '                                                            \n",
       "TTYPE46 = 'SEGUE2_TARGET1'                                                      \n",
       "TFORM46 = 'J       '                                                            \n",
       "TTYPE47 = 'SEGUE2_TARGET2'                                                      \n",
       "TFORM47 = 'J       '                                                            \n",
       "TTYPE48 = 'MARVELS_TARGET1'                                                     \n",
       "TFORM48 = 'J       '                                                            \n",
       "TTYPE49 = 'MARVELS_TARGET2'                                                     \n",
       "TFORM49 = 'J       '                                                            \n",
       "TTYPE50 = 'BOSS_TARGET1'                                                        \n",
       "TFORM50 = 'K       '                                                            \n",
       "TTYPE51 = 'BOSS_TARGET2'                                                        \n",
       "TFORM51 = 'K       '                                                            \n",
       "TTYPE52 = 'ANCILLARY_TARGET1'                                                   \n",
       "TFORM52 = 'K       '                                                            \n",
       "TTYPE53 = 'ANCILLARY_TARGET2'                                                   \n",
       "TFORM53 = 'K       '                                                            \n",
       "TTYPE54 = 'SPECTROGRAPHID'                                                      \n",
       "TFORM54 = 'I       '                                                            \n",
       "TTYPE55 = 'PLATE   '                                                            \n",
       "TFORM55 = 'J       '                                                            \n",
       "TTYPE56 = 'TILE    '                                                            \n",
       "TFORM56 = 'J       '                                                            \n",
       "TTYPE57 = 'MJD     '                                                            \n",
       "TFORM57 = 'J       '                                                            \n",
       "TTYPE58 = 'FIBERID '                                                            \n",
       "TFORM58 = 'J       '                                                            \n",
       "TTYPE59 = 'OBJID   '                                                            \n",
       "TFORM59 = '5J      '                                                            \n",
       "TTYPE60 = 'PLUG_RA '                                                            \n",
       "TFORM60 = 'D       '                                                            \n",
       "TTYPE61 = 'PLUG_DEC'                                                            \n",
       "TFORM61 = 'D       '                                                            \n",
       "TTYPE62 = 'CLASS   '                                                            \n",
       "TFORM62 = '6A      '                                                            \n",
       "TTYPE63 = 'SUBCLASS'                                                            \n",
       "TFORM63 = '21A     '                                                            \n",
       "TTYPE64 = 'Z       '                                                            \n",
       "TFORM64 = 'E       '                                                            \n",
       "TTYPE65 = 'Z_ERR   '                                                            \n",
       "TFORM65 = 'E       '                                                            \n",
       "TTYPE66 = 'RCHI2   '                                                            \n",
       "TFORM66 = 'E       '                                                            \n",
       "TTYPE67 = 'DOF     '                                                            \n",
       "TFORM67 = 'J       '                                                            \n",
       "TTYPE68 = 'RCHI2DIFF'                                                           \n",
       "TFORM68 = 'E       '                                                            \n",
       "TTYPE69 = 'TFILE   '                                                            \n",
       "TFORM69 = '24A     '                                                            \n",
       "TTYPE70 = 'TCOLUMN '                                                            \n",
       "TFORM70 = '10J     '                                                            \n",
       "TTYPE71 = 'NPOLY   '                                                            \n",
       "TFORM71 = 'J       '                                                            \n",
       "TTYPE72 = 'THETA   '                                                            \n",
       "TFORM72 = '10E     '                                                            \n",
       "TTYPE73 = 'VDISP   '                                                            \n",
       "TFORM73 = 'E       '                                                            \n",
       "TTYPE74 = 'VDISP_ERR'                                                           \n",
       "TFORM74 = 'E       '                                                            \n",
       "TTYPE75 = 'VDISPZ  '                                                            \n",
       "TFORM75 = 'E       '                                                            \n",
       "TTYPE76 = 'VDISPZ_ERR'                                                          \n",
       "TFORM76 = 'E       '                                                            \n",
       "TTYPE77 = 'VDISPCHI2'                                                           \n",
       "TFORM77 = 'E       '                                                            \n",
       "TTYPE78 = 'VDISPNPIX'                                                           \n",
       "TFORM78 = 'E       '                                                            \n",
       "TTYPE79 = 'VDISPDOF'                                                            \n",
       "TFORM79 = 'J       '                                                            \n",
       "TTYPE80 = 'WAVEMIN '                                                            \n",
       "TFORM80 = 'E       '                                                            \n",
       "TTYPE81 = 'WAVEMAX '                                                            \n",
       "TFORM81 = 'E       '                                                            \n",
       "TTYPE82 = 'WCOVERAGE'                                                           \n",
       "TFORM82 = 'E       '                                                            \n",
       "TTYPE83 = 'ZWARNING'                                                            \n",
       "TFORM83 = 'J       '                                                            \n",
       "TTYPE84 = 'SN_MEDIAN_ALL'                                                       \n",
       "TFORM84 = 'E       '                                                            \n",
       "TTYPE85 = 'SN_MEDIAN'                                                           \n",
       "TFORM85 = '5E      '                                                            \n",
       "TTYPE86 = 'CHI68P  '                                                            \n",
       "TFORM86 = 'E       '                                                            \n",
       "TTYPE87 = 'FRACNSIGMA'                                                          \n",
       "TFORM87 = '10E     '                                                            \n",
       "TTYPE88 = 'FRACNSIGHI'                                                          \n",
       "TFORM88 = '10E     '                                                            \n",
       "TTYPE89 = 'FRACNSIGLO'                                                          \n",
       "TFORM89 = '10E     '                                                            \n",
       "TTYPE90 = 'SPECTROFLUX'                                                         \n",
       "TFORM90 = '5E      '                                                            \n",
       "TTYPE91 = 'SPECTROFLUX_IVAR'                                                    \n",
       "TFORM91 = '5E      '                                                            \n",
       "TTYPE92 = 'SPECTROSYNFLUX'                                                      \n",
       "TFORM92 = '5E      '                                                            \n",
       "TTYPE93 = 'SPECTROSYNFLUX_IVAR'                                                 \n",
       "TFORM93 = '5E      '                                                            \n",
       "TTYPE94 = 'SPECTROSKYFLUX'                                                      \n",
       "TFORM94 = '5E      '                                                            \n",
       "TTYPE95 = 'ANYANDMASK'                                                          \n",
       "TFORM95 = 'J       '                                                            \n",
       "TTYPE96 = 'ANYORMASK'                                                           \n",
       "TFORM96 = 'J       '                                                            \n",
       "TTYPE97 = 'SPEC1_G '                                                            \n",
       "TFORM97 = 'E       '                                                            \n",
       "TTYPE98 = 'SPEC1_R '                                                            \n",
       "TFORM98 = 'E       '                                                            \n",
       "TTYPE99 = 'SPEC1_I '                                                            \n",
       "TFORM99 = 'E       '                                                            \n",
       "TTYPE100= 'SPEC2_G '                                                            \n",
       "TFORM100= 'E       '                                                            \n",
       "TTYPE101= 'SPEC2_R '                                                            \n",
       "TFORM101= 'E       '                                                            \n",
       "TTYPE102= 'SPEC2_I '                                                            \n",
       "TFORM102= 'E       '                                                            \n",
       "TTYPE103= 'ELODIE_FILENAME'                                                     \n",
       "TFORM103= '25A     '                                                            \n",
       "TTYPE104= 'ELODIE_OBJECT'                                                       \n",
       "TFORM104= '21A     '                                                            \n",
       "TTYPE105= 'ELODIE_SPTYPE'                                                       \n",
       "TFORM105= '10A     '                                                            \n",
       "TTYPE106= 'ELODIE_BV'                                                           \n",
       "TFORM106= 'E       '                                                            \n",
       "TTYPE107= 'ELODIE_TEFF'                                                         \n",
       "TFORM107= 'E       '                                                            \n",
       "TTYPE108= 'ELODIE_LOGG'                                                         \n",
       "TFORM108= 'E       '                                                            \n",
       "TTYPE109= 'ELODIE_FEH'                                                          \n",
       "TFORM109= 'E       '                                                            \n",
       "TTYPE110= 'ELODIE_Z'                                                            \n",
       "TFORM110= 'E       '                                                            \n",
       "TTYPE111= 'ELODIE_Z_ERR'                                                        \n",
       "TFORM111= 'E       '                                                            \n",
       "TTYPE112= 'ELODIE_Z_MODELERR'                                                   \n",
       "TFORM112= 'E       '                                                            \n",
       "TTYPE113= 'ELODIE_RCHI2'                                                        \n",
       "TFORM113= 'E       '                                                            \n",
       "TTYPE114= 'ELODIE_DOF'                                                          \n",
       "TFORM114= 'J       '                                                            \n",
       "TTYPE115= 'Z_NOQSO '                                                            \n",
       "TFORM115= 'E       '                                                            \n",
       "TTYPE116= 'Z_ERR_NOQSO'                                                         \n",
       "TFORM116= 'E       '                                                            \n",
       "TTYPE117= 'ZWARNING_NOQSO'                                                      \n",
       "TFORM117= 'J       '                                                            \n",
       "TTYPE118= 'CLASS_NOQSO'                                                         \n",
       "TFORM118= '1A      '                                                            \n",
       "TTYPE119= 'SUBCLASS_NOQSO'                                                      \n",
       "TFORM119= '1A      '                                                            \n",
       "TTYPE120= 'RCHI2DIFF_NOQSO'                                                     \n",
       "TFORM120= 'E       '                                                            \n",
       "TTYPE121= 'Z_PERSON'                                                            \n",
       "TFORM121= 'E       '                                                            \n",
       "TTYPE122= 'CLASS_PERSON'                                                        \n",
       "TFORM122= 'J       '                                                            \n",
       "TTYPE123= 'Z_CONF_PERSON'                                                       \n",
       "TFORM123= 'J       '                                                            \n",
       "TTYPE124= 'COMMENTS_PERSON'                                                     \n",
       "TFORM124= '1A      '                                                            \n",
       "TTYPE125= 'CALIBFLUX'                                                           \n",
       "TFORM125= '5E      '                                                            \n",
       "TTYPE126= 'CALIBFLUX_IVAR'                                                      \n",
       "TFORM126= '5E      '                                                            \n",
       "EXTNAME = 'SPECOBJ '                                                            \n",
       "COMMENT Metadata from specObj row                                               "
      ]
     },
     "execution_count": 11,
     "metadata": {},
     "output_type": "execute_result"
    }
   ],
   "source": [
    "hdulist[2].header"
   ]
  },
  {
   "cell_type": "code",
   "execution_count": 12,
   "metadata": {
    "collapsed": true
   },
   "outputs": [],
   "source": [
    "table_data = hdulist[2].data"
   ]
  },
  {
   "cell_type": "code",
   "execution_count": 13,
   "metadata": {},
   "outputs": [
    {
     "name": "stdout",
     "output_type": "stream",
     "text": [
      "('sdss', 'SDSS', 'chunk4', 'legacy', 'chunk4', 'good', 24.3799, 0.0, 5000.0, -1, 0.0, -9999.0, -1, 1, 1, 0, 0, 0, 0, 0, '    320932083365079040', '1237648720693755918', '1237648720693755918', '       284723073712301', '320881505830201344', 2, 'dr7', '26', '', -1, -0.99995385164363859, 0.005422889947515875, -0.0079301228029059409, 27.958479, -95.491524, 'GALAXY', 'SCIENCE', 64, 0, 64, 0, 0, 0, 0, 0, 0, 0, 0, 0, 0, 0, 0, 0, 1, 285, 103, 51930, 184, array([756,   1,   2, 427, 173], dtype=int32), 179.68928, -0.45436733000000001, 'GALAXY', 'STARFORMING', 0.094840519, 1.5840465e-05, 1.1163899, 3691, 0.89014614, 'spEigenGal-53724.fits', array([ 0,  1,  2,  3, -1, -1, -1, -1, -1, -1], dtype=int32), 3, array([  1.57178240e-03,  -2.74122506e-03,  -2.00926303e-03,\n",
      "        -3.93600250e-03,   1.01939259e+01,  -2.61455555e+01,\n",
      "         1.62437553e+01,   0.00000000e+00,   0.00000000e+00,\n",
      "         0.00000000e+00], dtype=float32), 123.26936, 10.439026, 0.0, 0.0, 1990.5084, 2168.0, 2117, 3803.6453, 9198.1396, 0.3698, 0, 14.354061, array([  1.97291958,   9.42644119,  18.66189575,  20.75550652,  11.87760448], dtype=float32), 1.0349858, array([ 0.33693889,  0.05705787,  0.00540833,  0.        ,  0.        ,\n",
      "        0.        ,  0.        ,  0.        ,  0.        ,  0.        ], dtype=float32), array([ 0.1760411 ,  0.02947539,  0.0016225 ,  0.        ,  0.        ,\n",
      "        0.        ,  0.        ,  0.        ,  0.        ,  0.        ], dtype=float32), array([ 0.16089778,  0.02758248,  0.00378583,  0.        ,  0.        ,\n",
      "        0.        ,  0.        ,  0.        ,  0.        ,  0.        ], dtype=float32), array([ 11.01795959,  20.80636597,  42.68083191,  63.05702209,  81.59487152], dtype=float32), array([ 1.05072749,  3.86388326,  2.75251079,  1.90488601,  0.72291726], dtype=float32), array([  9.95549488,  20.74976349,  42.68837357,  62.90369797,  82.63363647], dtype=float32), array([ 2.75185156,  3.71349955,  3.03875709,  2.14838123,  0.93604642], dtype=float32), array([  7.57998753,  13.15867901,  33.47553253,  62.07984161,  95.79686737], dtype=float32), 92340224, 266272768, 24.832199, 29.507601, 24.3799, 26.414101, 35.663399, 24.923401, '', '', '', 0.0, 0.0, 0.0, 0.0, 0.0, 0.0, 0.0, 0.0, 0, 0.0, 0.0, 0, '', '', 0.0, 0.0, 0, 0, '', array([   6.27212095,   24.30412292,   48.57185745,   73.82846069,\n",
      "        103.60444641], dtype=float32), array([  5.42143011,  14.39587021,   7.24301291,   4.54645967,   0.31689247], dtype=float32))\n"
     ]
    }
   ],
   "source": [
    "print(table_data[0])"
   ]
  },
  {
   "cell_type": "code",
   "execution_count": 14,
   "metadata": {},
   "outputs": [
    {
     "data": {
      "text/plain": [
       "astropy.io.fits.fitsrec.FITS_record"
      ]
     },
     "execution_count": 14,
     "metadata": {},
     "output_type": "execute_result"
    }
   ],
   "source": [
    "type(table_data[0])"
   ]
  },
  {
   "cell_type": "code",
   "execution_count": 15,
   "metadata": {},
   "outputs": [
    {
     "data": {
      "text/plain": [
       "XTENSION= 'BINTABLE'           / binary table extension                         \n",
       "BITPIX  =                    8 / array data type                                \n",
       "NAXIS   =                    2 / number of array dimensions                     \n",
       "NAXIS1  =                   32 / length of dimension 1                          \n",
       "NAXIS2  =                 3839 / length of dimension 2                          \n",
       "PCOUNT  =                    0 / number of group parameters                     \n",
       "GCOUNT  =                    1 / number of groups                               \n",
       "TFIELDS =                    8 / number of table fields                         \n",
       "TTYPE1  = 'flux    '                                                            \n",
       "TFORM1  = 'E       '                                                            \n",
       "TTYPE2  = 'loglam  '                                                            \n",
       "TFORM2  = 'E       '                                                            \n",
       "TTYPE3  = 'ivar    '                                                            \n",
       "TFORM3  = 'E       '                                                            \n",
       "TTYPE4  = 'and_mask'                                                            \n",
       "TFORM4  = 'J       '                                                            \n",
       "TTYPE5  = 'or_mask '                                                            \n",
       "TFORM5  = 'J       '                                                            \n",
       "TTYPE6  = 'wdisp   '                                                            \n",
       "TFORM6  = 'E       '                                                            \n",
       "TTYPE7  = 'sky     '                                                            \n",
       "TFORM7  = 'E       '                                                            \n",
       "TTYPE8  = 'model   '                                                            \n",
       "TFORM8  = 'E       '                                                            \n",
       "EXTNAME = 'COADD   '                                                            \n",
       "COMMENT Coadded spectrum                                                        "
      ]
     },
     "execution_count": 15,
     "metadata": {},
     "output_type": "execute_result"
    }
   ],
   "source": [
    "hdulist[1].header"
   ]
  },
  {
   "cell_type": "code",
   "execution_count": 16,
   "metadata": {
    "collapsed": true
   },
   "outputs": [],
   "source": [
    "COADD = hdulist[1].data"
   ]
  },
  {
   "cell_type": "code",
   "execution_count": 17,
   "metadata": {},
   "outputs": [
    {
     "name": "stdout",
     "output_type": "stream",
     "text": [
      "(4.9725671, 3.5799, 0.0214625, 67108864, 201326592, 1.3625549, 5.2076378, 7.5490899)\n"
     ]
    }
   ],
   "source": [
    "print(COADD[0])"
   ]
  },
  {
   "cell_type": "code",
   "execution_count": 18,
   "metadata": {},
   "outputs": [
    {
     "name": "stdout",
     "output_type": "stream",
     "text": [
      "(11.493434, 3.9598999, 0.93950236, 0, 0, 0.62106329, 3.4851344, 11.278609)\n"
     ]
    }
   ],
   "source": [
    "print(COADD[3800])"
   ]
  },
  {
   "cell_type": "code",
   "execution_count": 19,
   "metadata": {},
   "outputs": [
    {
     "data": {
      "text/plain": [
       "array([  4.97256708,  11.40163231,   4.58546305, ...,  10.81002522,\n",
       "        12.31714439,  12.532938  ], dtype=float32)"
      ]
     },
     "execution_count": 19,
     "metadata": {},
     "output_type": "execute_result"
    }
   ],
   "source": [
    "COADD.field('flux')"
   ]
  },
  {
   "cell_type": "code",
   "execution_count": 20,
   "metadata": {
    "collapsed": true
   },
   "outputs": [],
   "source": [
    "flux = COADD.field('flux')"
   ]
  },
  {
   "cell_type": "code",
   "execution_count": 21,
   "metadata": {},
   "outputs": [
    {
     "data": {
      "text/plain": [
       "3839"
      ]
     },
     "execution_count": 21,
     "metadata": {},
     "output_type": "execute_result"
    }
   ],
   "source": [
    "len(flux)"
   ]
  },
  {
   "cell_type": "code",
   "execution_count": 22,
   "metadata": {},
   "outputs": [
    {
     "data": {
      "text/plain": [
       "numpy.ndarray"
      ]
     },
     "execution_count": 22,
     "metadata": {},
     "output_type": "execute_result"
    }
   ],
   "source": [
    "type(flux)"
   ]
  },
  {
   "cell_type": "code",
   "execution_count": 23,
   "metadata": {
    "collapsed": true
   },
   "outputs": [],
   "source": [
    "cols = hdulist[1]"
   ]
  },
  {
   "cell_type": "code",
   "execution_count": 24,
   "metadata": {},
   "outputs": [
    {
     "data": {
      "text/plain": [
       "<astropy.io.fits.hdu.table.BinTableHDU at 0x7fccb2ddf4a8>"
      ]
     },
     "execution_count": 24,
     "metadata": {},
     "output_type": "execute_result"
    }
   ],
   "source": [
    "cols"
   ]
  },
  {
   "cell_type": "code",
   "execution_count": 25,
   "metadata": {
    "collapsed": true
   },
   "outputs": [],
   "source": [
    "cols = cols.columns"
   ]
  },
  {
   "cell_type": "code",
   "execution_count": 26,
   "metadata": {},
   "outputs": [
    {
     "name": "stdout",
     "output_type": "stream",
     "text": [
      "ColDefs(\n",
      "    name = 'flux'; format = 'E'\n",
      "    name = 'loglam'; format = 'E'\n",
      "    name = 'ivar'; format = 'E'\n",
      "    name = 'and_mask'; format = 'J'\n",
      "    name = 'or_mask'; format = 'J'\n",
      "    name = 'wdisp'; format = 'E'\n",
      "    name = 'sky'; format = 'E'\n",
      "    name = 'model'; format = 'E'\n",
      ")\n"
     ]
    }
   ],
   "source": [
    "print(cols)"
   ]
  },
  {
   "cell_type": "code",
   "execution_count": 27,
   "metadata": {},
   "outputs": [
    {
     "data": {
      "text/plain": [
       "['flux', 'loglam', 'ivar', 'and_mask', 'or_mask', 'wdisp', 'sky', 'model']"
      ]
     },
     "execution_count": 27,
     "metadata": {},
     "output_type": "execute_result"
    }
   ],
   "source": [
    "cols.names"
   ]
  },
  {
   "cell_type": "code",
   "execution_count": 28,
   "metadata": {},
   "outputs": [
    {
     "data": {
      "text/plain": [
       "numpy.ndarray"
      ]
     },
     "execution_count": 28,
     "metadata": {},
     "output_type": "execute_result"
    }
   ],
   "source": [
    "type(flux)"
   ]
  },
  {
   "cell_type": "code",
   "execution_count": 29,
   "metadata": {},
   "outputs": [
    {
     "data": {
      "text/plain": [
       "[<matplotlib.lines.Line2D at 0x7fcca85bfdd8>]"
      ]
     },
     "execution_count": 29,
     "metadata": {},
     "output_type": "execute_result"
    }
   ],
   "source": [
    "import matplotlib.pyplot as plt\n",
    "plt.plot(flux)"
   ]
  },
  {
   "cell_type": "code",
   "execution_count": 30,
   "metadata": {},
   "outputs": [
    {
     "data": {
      "text/plain": [
       "<function matplotlib.pyplot.show>"
      ]
     },
     "execution_count": 30,
     "metadata": {},
     "output_type": "execute_result"
    }
   ],
   "source": [
    "plt.show"
   ]
  },
  {
   "cell_type": "code",
   "execution_count": 31,
   "metadata": {},
   "outputs": [
    {
     "data": {
      "image/png": "[encoded data removed]",
      "text/plain": [
       "<matplotlib.figure.Figure at 0x7fccb2cc5ef0>"
      ]
     },
     "metadata": {},
     "output_type": "display_data"
    }
   ],
   "source": [
    "plt.show()"
   ]
  },
  {
   "cell_type": "code",
   "execution_count": 32,
   "metadata": {
    "collapsed": true
   },
   "outputs": [],
   "source": [
    "import numpy as np"
   ]
  },
  {
   "cell_type": "code",
   "execution_count": 36,
   "metadata": {
    "collapsed": true
   },
   "outputs": [],
   "source": [
    "def findEmissionLine(flux):\n",
    "    y=np.amax(flux)\n",
    "    x=np.argmax(flux)\n",
    "    return (x,y)"
   ]
  },
  {
   "cell_type": "code",
   "execution_count": 39,
   "metadata": {},
   "outputs": [
    {
     "data": {
      "image/png": "[encoded data removed]",
      "text/plain": [
       "<matplotlib.figure.Figure at 0x7fcca84c8400>"
      ]
     },
     "metadata": {},
     "output_type": "display_data"
    }
   ],
   "source": [
    "xy = findEmissionLine(flux)\n",
    "plt.plot(flux)\n",
    "plt.annotate('emmision line',xy=xy,xytext=(xy[0]+3,xy[1]+3),arrowprops=dict(facecolor='black', shrink=0.05))\n",
    "plt.show()"
   ]
  },
  {
   "cell_type": "code",
   "execution_count": null,
   "metadata": {
    "collapsed": true
   },
   "outputs": [],
   "source": []
  }
 ],
 "metadata": {
  "kernelspec": {
   "display_name": "Python 3",
   "language": "python",
   "name": "python3"
  },
  "language_info": {
   "codemirror_mode": {
    "name": "ipython",
    "version": 3
   },
   "file_extension": ".py",
   "mimetype": "text/x-python",
   "name": "python",
   "nbconvert_exporter": "python",
   "pygments_lexer": "ipython3",
   "version": "3.6.0"
  }
 },
 "nbformat": 4,
 "nbformat_minor": 2
}
